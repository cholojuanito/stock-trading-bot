{
 "cells": [
  {
   "cell_type": "markdown",
   "metadata": {},
   "source": [
    "# Publicly available trading data for Representatives and Senators can be found here:\n",
    "- Reps: https://disclosures-clerk.house.gov/FinancialDisclosure\n",
    "- Senators: https://efdsearch.senate.gov/search/home/"
   ]
  },
  {
   "cell_type": "markdown",
   "metadata": {},
   "source": [
    "# Data from the House of Representatives\n",
    "The zip files from the public disclosure website come in either text or xml format.\n",
    "Their schema is the following:\n",
    "- Prefix - the title of the person, nullable\n",
    "- Last - the Representative's last name\n",
    "- First - the Representative's first name\n",
    "- Suffix - the Representative's suffix, nullable\n",
    "- FilingType - one of C, D, P, W, X (more info below)\n",
    "- StateDst - the state and district the person is representing\n",
    "- Year - the year of the filing\n",
    "- FilingDate - the date of the filing\n",
    "- DocID - the internal id of the document, used for downloading the original pdf"
   ]
  },
  {
   "cell_type": "markdown",
   "metadata": {},
   "source": [
    "## A breakdown of the FilingTypes\n",
    "\n",
    "C - Candidacy Financial Disclosure Report:\n",
    "    Candidates are required to disclose their net worth and assets.\n",
    "    Example: https://disclosures-clerk.house.gov/public_disc/financial-pdfs/2024/10061382.pdf\n",
    "\n",
    "D - Financial Disclosure Report\n",
    "    Candidates are required to disclose if they have receieved more than $5,000 for their campaign.\n",
    "    Example: https://disclosures-clerk.house.gov/public_disc/financial-pdfs/2024/40003638.pdf\n",
    "\n",
    "P - Periodic Transaction Report\n",
    "    Candidates are required to disclose any transactions within 45 days of that transaction.\n",
    "    Example: https://disclosures-clerk.house.gov/public_disc/ptr-pdfs/2024/20025368.pdf\n",
    "\n",
    "W - Withdrawl of Candidacy\n",
    "    Example: https://disclosures-clerk.house.gov/public_disc/financial-pdfs/2024/7923.pdf\n",
    "\n",
    "X - Financial Disclosure Extension Request\n",
    "    Example: https://disclosures-clerk.house.gov/public_disc/financial-pdfs/2024/30022024.pdf\n",
    "\n",
    "### Where are the original pdfs stored?\n",
    "Each pdf is stored at URL that is a combination of the FilingType, Year, and DocID.\n",
    "\n",
    "Base URL for C, D, W, X: https://disclosures-clerk.house.gov/public_disc/financial-pdfs\n",
    "\n",
    "Base URL for P: https://disclosures-clerk.house.gov/public_disc/ptr-pdfs"
   ]
  },
  {
   "cell_type": "markdown",
   "metadata": {},
   "source": []
  }
 ],
 "metadata": {
  "language_info": {
   "name": "python"
  }
 },
 "nbformat": 4,
 "nbformat_minor": 2
}

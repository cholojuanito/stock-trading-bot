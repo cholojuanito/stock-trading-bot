{
 "cells": [
  {
   "cell_type": "markdown",
   "metadata": {},
   "source": [
    "# Publicly available trading data for Representatives and Senators\n",
    "\n",
    "This data is made available because of the 2012 STOCK Act.\n",
    "\n",
    "## Data for each group can be found here:\n",
    "- Reps: https://disclosures-clerk.house.gov/FinancialDisclosure\n",
    "- Senators: https://efdsearch.senate.gov/search/home/"
   ]
  },
  {
   "cell_type": "markdown",
   "metadata": {},
   "source": [
    "# Data from the House of Representatives\n",
    "We'll start with data from the House of Representatives since they are the larger of the two groups and most of the people whose trading data we care about are Representatives.\n",
    "\n",
    "The data that the Clerk of the House provides are in the form of zip files. The data in this zip files serve as an index to all of the original pdfs that each member must submit.\n",
    "\n",
    "The zip files from the public disclosure website come in either text or xml format.\n",
    "Their schema is the following:\n",
    "- Prefix - the title of the person, nullable\n",
    "- Last - the Representative's last name\n",
    "- First - the Representative's first name\n",
    "- Suffix - the Representative's suffix, nullable\n",
    "- FilingType - one of C, D, P, W, X (more info below)\n",
    "- StateDst - the state and district the person is representing\n",
    "- Year - the year of the filing\n",
    "- FilingDate - the date of the filing\n",
    "- DocID - the internal id of the document, used for downloading the original pdf"
   ]
  },
  {
   "cell_type": "markdown",
   "metadata": {},
   "source": [
    "## A breakdown of the FilingTypes\n",
    "\n",
    "C - Candidacy Financial Disclosure Report:\n",
    "    Candidates are required to disclose their net worth and assets.\n",
    "    Example: https://disclosures-clerk.house.gov/public_disc/financial-pdfs/2024/10061382.pdf\n",
    "\n",
    "D - Financial Disclosure Report\n",
    "    Candidates are required to disclose if they have receieved more than $5,000 for their campaign.\n",
    "    Example: https://disclosures-clerk.house.gov/public_disc/financial-pdfs/2024/40003638.pdf\n",
    "\n",
    "P - Periodic Transaction Report\n",
    "    Candidates are required to disclose any transactions within 45 days of that transaction.\n",
    "    Example: https://disclosures-clerk.house.gov/public_disc/ptr-pdfs/2024/20025368.pdf\n",
    "\n",
    "W - Withdrawl of Candidacy\n",
    "    Example: https://disclosures-clerk.house.gov/public_disc/financial-pdfs/2024/7923.pdf\n",
    "\n",
    "X - Financial Disclosure Extension Request\n",
    "    Example: https://disclosures-clerk.house.gov/public_disc/financial-pdfs/2024/30022024.pdf\n",
    "\n",
    "**P FilingTypes are what we are most interested in, they provide the trade type,actual stock tickers, general amounts, and dates**\n",
    "\n",
    "### Where are the original pdfs stored?\n",
    "Each pdf is stored at URL that is a combination of the FilingType, Year, and DocID.\n",
    "\n",
    "Base URL for C, D, W, X: https://disclosures-clerk.house.gov/public_disc/financial-pdfs\n",
    "\n",
    "Base URL for P: https://disclosures-clerk.house.gov/public_disc/ptr-pdfs"
   ]
  },
  {
   "cell_type": "markdown",
   "metadata": {},
   "source": [
    "# Download all available data"
   ]
  },
  {
   "cell_type": "code",
   "execution_count": 1,
   "metadata": {},
   "outputs": [
    {
     "name": "stdout",
     "output_type": "stream",
     "text": [
      "Successfully downloaded and extracted 2008FD.txt for 2008\n",
      "Successfully downloaded and extracted 2009FD.txt for 2009\n",
      "Successfully downloaded and extracted 2010FD.txt for 2010\n",
      "Successfully downloaded and extracted 2011FD.txt for 2011\n",
      "Successfully downloaded and extracted 2012FD.txt for 2012\n",
      "Successfully downloaded and extracted 2013FD.txt for 2013\n",
      "Successfully downloaded and extracted 2014FD.txt for 2014\n",
      "Successfully downloaded and extracted 2015FD.txt for 2015\n",
      "Successfully downloaded and extracted 2016FD.txt for 2016\n",
      "Successfully downloaded and extracted 2017FD.txt for 2017\n",
      "Successfully downloaded and extracted 2018FD.txt for 2018\n",
      "Successfully downloaded and extracted 2019FD.txt for 2019\n",
      "Successfully downloaded and extracted 2020FD.txt for 2020\n",
      "Successfully downloaded and extracted 2021FD.txt for 2021\n",
      "Successfully downloaded and extracted 2022FD.txt for 2022\n",
      "Successfully downloaded and extracted 2023FD.txt for 2023\n",
      "Successfully downloaded and extracted 2024FD.txt for 2024\n"
     ]
    }
   ],
   "source": [
    "import requests\n",
    "from pathlib import Path\n",
    "import os\n",
    "from zipfile import ZipFile\n",
    "from io import BytesIO\n",
    "\n",
    "base_url = \"https://disclosures-clerk.house.gov/public_disc/financial-pdfs/\"\n",
    "years = range(2008, 2025)\n",
    "output_dir = Path(\"../data/disclosures\")\n",
    "\n",
    "os.makedirs(output_dir, exist_ok=True)\n",
    "\n",
    "for year in years:\n",
    "    url = f\"{base_url}{year}FD.zip\"\n",
    "    response = requests.get(url)\n",
    "    if response.status_code == 200:\n",
    "        with ZipFile(BytesIO(response.content)) as zip_file:\n",
    "            txt_file = f\"{year}FD.txt\"\n",
    "            if txt_file in zip_file.namelist():\n",
    "                zip_file.extract(txt_file, output_dir)\n",
    "                print(f\"Successfully downloaded and extracted {txt_file} for {year}\")\n",
    "            else:\n",
    "                print(f\"No {txt_file} found in the zip file for {year}\")\n",
    "    else:\n",
    "        print(f\"Failed to download data for {year}\")"
   ]
  },
  {
   "cell_type": "code",
   "execution_count": null,
   "metadata": {},
   "outputs": [],
   "source": []
  },
  {
   "cell_type": "code",
   "execution_count": null,
   "metadata": {},
   "outputs": [],
   "source": []
  }
 ],
 "metadata": {
  "kernelspec": {
   "display_name": ".venv",
   "language": "python",
   "name": "python3"
  },
  "language_info": {
   "codemirror_mode": {
    "name": "ipython",
    "version": 3
   },
   "file_extension": ".py",
   "mimetype": "text/x-python",
   "name": "python",
   "nbconvert_exporter": "python",
   "pygments_lexer": "ipython3",
   "version": "3.12.7"
  }
 },
 "nbformat": 4,
 "nbformat_minor": 2
}
